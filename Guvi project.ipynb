{
 "cells": [
  {
   "cell_type": "raw",
   "id": "27b5491f",
   "metadata": {},
   "source": [
    "Python – mini Course project (IITM P11)\n",
    "\n",
    "1.Create repo in git-hub, place your python code inside it to share the link to us.\n",
    "2.Make word document with proper explanation of Results and scripts.\n",
    "\n",
    "Questions:\n",
    "1.Write a program to find out the prime numbers \n",
    "2.write a program to create the equation (a+b+c) *  (a-b-c) * ab + a^2 + b ^2 + (abc)^3\n",
    "3. urlist = ['wood','knife','axe'] , mylist = ['tree', 'apple', 'mango', 'melon'] – combine two lists\n",
    "4.write a program for natural number based on user input\n",
    "5.write class and function for the equation sqrt(x1-x2) ^ 2 + sqrt( y1 – y2 ) ^2 using try except handling\n",
    "6. Name  = “Guvi python”  - write a program to get “python” word from the string\n",
    "7.Using class and function - Write a program for palindrome Ex. Madam\n",
    "8.using file handling – write a text file in ur system with “hello world”\n",
    "9.create option button using tkinter GUI in python\n",
    "10.Keep only numbers from the following string x = “ 89e9jcd^o38829@3%3,/mkl$w1”\n"
   ]
  },
  {
   "cell_type": "code",
   "execution_count": 1,
   "id": "efecc4c3",
   "metadata": {},
   "outputs": [
    {
     "name": "stdout",
     "output_type": "stream",
     "text": [
      "13\n",
      "13 is a prime num\n"
     ]
    }
   ],
   "source": [
    "# prime number check:\n",
    "\n",
    "num=int(input())\n",
    "if num>1:\n",
    "    for i in range(2,num):\n",
    "        if(num%i)==0:\n",
    "            print(num,\"not a prime num\")\n",
    "            break\n",
    "    else:\n",
    "        print(num,\"is a prime num\")\n",
    "else:\n",
    "    print(num,\"is not a prime num\")"
   ]
  },
  {
   "cell_type": "code",
   "execution_count": 1,
   "id": "b8ca8188",
   "metadata": {},
   "outputs": [
    {
     "name": "stdout",
     "output_type": "stream",
     "text": [
      "2\n",
      "3\n",
      "4\n"
     ]
    },
    {
     "data": {
      "text/plain": [
       "13567"
      ]
     },
     "execution_count": 1,
     "metadata": {},
     "output_type": "execute_result"
    }
   ],
   "source": [
    "# create equation :(a+b+c) *  (a-b-c) * ab + a^2 + b ^2 + (abc)^3\n",
    "\n",
    "a= int(input())\n",
    "b=int(input())\n",
    "c=int(input())\n",
    "d=(a+b+c)*(a-b-c)*(a*b)+(a**2)+(b**2)+((a*b*c)**3)\n",
    "d\n",
    "\n"
   ]
  },
  {
   "cell_type": "code",
   "execution_count": 2,
   "id": "be94977a",
   "metadata": {},
   "outputs": [
    {
     "name": "stdout",
     "output_type": "stream",
     "text": [
      "['wood', 'knife', 'axe', 'tree', 'apple', 'mango', 'melon']\n"
     ]
    }
   ],
   "source": [
    "#combine two list :\n",
    "\n",
    "urlist = ['wood','knife','axe']\n",
    "mylist = ['tree', 'apple', 'mango', 'melon']\n",
    "urlist.extend(mylist)\n",
    "print(urlist)\n",
    "#print(type(urlist))"
   ]
  },
  {
   "cell_type": "code",
   "execution_count": 14,
   "id": "b94694f4",
   "metadata": {},
   "outputs": [
    {
     "name": "stdout",
     "output_type": "stream",
     "text": [
      "7\n",
      "[1, 2, 3, 4, 5, 6]\n"
     ]
    }
   ],
   "source": [
    "## natural number :\n",
    "\n",
    "n=int(input())\n",
    "natural_number=[]\n",
    "for i in range(0,n):\n",
    "    if i>=1:\n",
    "        natural_number.append(i)\n",
    "        #print(any(natural_number))\n",
    "print(natural_number)    \n"
   ]
  },
  {
   "cell_type": "code",
   "execution_count": 11,
   "id": "0fc06d5a",
   "metadata": {},
   "outputs": [
    {
     "data": {
      "text/plain": [
       "2.5"
      ]
     },
     "execution_count": 11,
     "metadata": {},
     "output_type": "execute_result"
    }
   ],
   "source": [
    "#5.write class and function for the equation sqrt(x1-x2) ^ 2 + sqrt( y1 – y2 ) ^2 using try except handling:\n",
    "\n",
    "try: \n",
    "    class root():\n",
    "        def __init__(self,x1,x2,y1,y2):\n",
    "            self.x1=x1\n",
    "            self.x2=x2\n",
    "            self.y1=y1\n",
    "            self.y2=y2\n",
    "        \n",
    "        def maths(self):\n",
    "            x=((self.x1-self.x2)**2)*0.5\n",
    "            y=((self.y1-self.y2)**2)*0.5\n",
    "            return x+y\n",
    "        def __str__(self):\n",
    "            return x+y\n",
    "        \n",
    "        \n",
    "except:\n",
    "    print(\"type errors\")\n",
    "\n",
    "f=root(6,7,2,4)\n",
    "d=f.maths()\n",
    "d"
   ]
  },
  {
   "cell_type": "code",
   "execution_count": 16,
   "id": "1dc3e93c",
   "metadata": {
    "scrolled": true
   },
   "outputs": [
    {
     "name": "stdout",
     "output_type": "stream",
     "text": [
      "python\n",
      "<class 'str'>\n"
     ]
    }
   ],
   "source": [
    "#6. Name  = “Guvi python”  - write a program to get “python” word from the string :\n",
    "\n",
    "Name = \"Guvi python\"\n",
    "print(Name[5:11])\n",
    "print(type(Name))"
   ]
  },
  {
   "cell_type": "code",
   "execution_count": 3,
   "id": "28fb3f76",
   "metadata": {
    "scrolled": true
   },
   "outputs": [],
   "source": [
    "# 7.Using class and function - Write a program for palindrome Ex. Madam :"
   ]
  },
  {
   "cell_type": "code",
   "execution_count": 38,
   "id": "41b4f36d",
   "metadata": {},
   "outputs": [],
   "source": [
    "class name():\n",
    "    def __init__(self,x1):\n",
    "        self.a=x1\n",
    "    def pali(self):\n",
    "        b=self.a[::-1]\n",
    "        if self.a==b:\n",
    "            print(\"yes\")\n",
    "        else:\n",
    "            print(\"no\")\n",
    "        "
   ]
  },
  {
   "cell_type": "code",
   "execution_count": 44,
   "id": "0f3be50c",
   "metadata": {},
   "outputs": [
    {
     "name": "stdout",
     "output_type": "stream",
     "text": [
      "yes\n"
     ]
    }
   ],
   "source": [
    "a=name(\"madam\")\n",
    "a.pali()\n"
   ]
  },
  {
   "cell_type": "code",
   "execution_count": 4,
   "id": "bb61a369",
   "metadata": {},
   "outputs": [],
   "source": [
    "#8.using file handling – write a text file in ur system with “hello world”:\n",
    "\n",
    "f=open(\"guvifile.txt\",\"w\")\n",
    "f.write(\"hello world\")\n",
    "f.close()"
   ]
  },
  {
   "cell_type": "code",
   "execution_count": 15,
   "id": "68887eb1",
   "metadata": {},
   "outputs": [],
   "source": [
    "#9.create option button using tkinter GUI in python:\n",
    "\n",
    "from tkinter import *\n",
    "root = Tk()\n",
    "b= Button(root, text=\"option\")\n",
    "b.pack()\n",
    "root.mainloop()\n"
   ]
  },
  {
   "cell_type": "code",
   "execution_count": 19,
   "id": "7bd0a821",
   "metadata": {},
   "outputs": [
    {
     "name": "stdout",
     "output_type": "stream",
     "text": [
      "89938829331\n"
     ]
    }
   ],
   "source": [
    "#10.Keep only numbers from the following string x = “ 89e9jcd^o38829@3%3,/mkl$w1”:\n",
    "\n",
    "x = \"89e9jcd^o38829@3%3,/mkl$w1\"\n",
    "x_nums = \"\"\n",
    "\n",
    "for c in x:\n",
    "    if c.isdigit():\n",
    "        x_nums += c\n",
    "\n",
    "print(x_nums)\n"
   ]
  },
  {
   "cell_type": "code",
   "execution_count": null,
   "id": "5a95bc2b",
   "metadata": {},
   "outputs": [],
   "source": []
  }
 ],
 "metadata": {
  "kernelspec": {
   "display_name": "Python 3 (ipykernel)",
   "language": "python",
   "name": "python3"
  },
  "language_info": {
   "codemirror_mode": {
    "name": "ipython",
    "version": 3
   },
   "file_extension": ".py",
   "mimetype": "text/x-python",
   "name": "python",
   "nbconvert_exporter": "python",
   "pygments_lexer": "ipython3",
   "version": "3.11.0"
  }
 },
 "nbformat": 4,
 "nbformat_minor": 5
}
